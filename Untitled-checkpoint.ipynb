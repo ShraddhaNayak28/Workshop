{
 "cells": [
  {
   "cell_type": "code",
   "execution_count": 2,
   "metadata": {},
   "outputs": [
    {
     "name": "stdout",
     "output_type": "stream",
     "text": [
      "enter your name:shraddha\n"
     ]
    }
   ],
   "source": [
    "a=input(\"enter your name:\")"
   ]
  },
  {
   "cell_type": "code",
   "execution_count": 12,
   "metadata": {},
   "outputs": [
    {
     "name": "stdout",
     "output_type": "stream",
     "text": [
      "Enter a number:5\n",
      "True\n",
      "The type of a is <class 'str'>\n",
      "The type of b is <class 'bool'>\n",
      "The type of c is <class 'int'>\n",
      "The type of d is <class 'NoneType'>\n",
      "The type of e is <class 'int'>\n"
     ]
    }
   ],
   "source": [
    "a=\"HI\"\n",
    "b=True\n",
    "c=20\n",
    "d=None\n",
    "e=int(input(\"Enter a number:\"))\n",
    "if(e==5):\n",
    "    print(\"True\")\n",
    "else:\n",
    "    print(\"False\")\n",
    "print(\"The type of a is\",type(a))  \n",
    "print(\"The type of b is\",type(b))    \n",
    "print(\"The type of c is\",type(c))  \n",
    "print(\"The type of d is\",type(d))    \n",
    "print(\"The type of e is\",type(e))    \n",
    "    "
   ]
  },
  {
   "cell_type": "code",
   "execution_count": null,
   "metadata": {},
   "outputs": [],
   "source": [
    "a=int(input(\"Enter the value of a:\"))\n",
    "b=int(input(\"Enter the value of b:\"))\n",
    "c=input(\"Enter the operator\")\n",
    "if c=='+':\n",
    "    print(f\"Addition of {a} and {b} is {a+b}\")\n",
    "elif c=='-':\n",
    "    print(\"Subtract a and b\",a-b)\n",
    "elif c=='*':\n",
    "    print(\"Multiply a and b\",a*b)\n",
    "elif c=='%':\n",
    "    print(\"Devide a and b\",a/b)\n",
    "elif c=='%':\n",
    "    print(\"mod of a and b\",a%b)\n",
    "else:\n",
    "    print(\"Invalid choice\")\n"
   ]
  },
  {
   "cell_type": "code",
   "execution_count": 15,
   "metadata": {},
   "outputs": [
    {
     "name": "stdout",
     "output_type": "stream",
     "text": [
      "Enter the value of a:6\n",
      "Enter the value of b:9\n",
      "Enter the operator+\n",
      "Addition of 6 and 9 is 15\n"
     ]
    }
   ],
   "source": [
    "a=int(input(\"Enter the value of a:\"))\n",
    "b=int(input(\"Enter the value of b:\"))\n",
    "c=input(\"Enter the operator\")\n",
    "if c=='+':\n",
    "    print(f\"Addition of {a} and {b} is {a+b}\")\n",
    "elif c=='-':\n",
    "    print(\"Subtract a and b\",a-b)\n",
    "elif c=='*':\n",
    "    print(\"Multiply a and b\",a*b)\n",
    "elif c=='%':\n",
    "    print(\"Devide a and b\",a/b)\n",
    "elif c=='%':\n",
    "    print(\"mod of a and b\",a%b)\n",
    "else:\n",
    "    print(\"Invalid choice\")\n"
   ]
  },
  {
   "cell_type": "code",
   "execution_count": null,
   "metadata": {
    "collapsed": true
   },
   "outputs": [],
   "source": []
  }
 ],
 "metadata": {
  "kernelspec": {
   "display_name": "Python 3",
   "language": "python",
   "name": "python3"
  },
  "language_info": {
   "codemirror_mode": {
    "name": "ipython",
    "version": 3
   },
   "file_extension": ".py",
   "mimetype": "text/x-python",
   "name": "python",
   "nbconvert_exporter": "python",
   "pygments_lexer": "ipython3",
   "version": "3.6.3"
  }
 },
 "nbformat": 4,
 "nbformat_minor": 2
}
